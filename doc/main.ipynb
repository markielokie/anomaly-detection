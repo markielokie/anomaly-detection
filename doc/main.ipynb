{
 "cells": [
  {
   "cell_type": "markdown",
   "id": "a3936240",
   "metadata": {},
   "source": [
    "# Anomaly Detection using Statistical Learning\n",
    "## Spring 2022"
   ]
  },
  {
   "cell_type": "markdown",
   "id": "4f241c37",
   "metadata": {},
   "source": [
    "**Presented by**: Jiachen Hu, Jiayi Wang, Marcus Loke, Qinyun Luo, Rohit Kundurthi, Xin Li, Yafei Wen, Yinjie Dai, Yunzi Ma, Zheyu Xu"
   ]
  },
  {
   "cell_type": "code",
   "execution_count": 1,
   "id": "6a88422b",
   "metadata": {},
   "outputs": [],
   "source": [
    "import numpy as np\n",
    "import sesd\n",
    "ts = np.random.random(100)\n",
    "# Introduce artificial anomalies\n",
    "ts[14] = 9\n",
    "ts[83] = 10\n",
    "outliers_indices = sesd.seasonal_esd(ts, periodicity=20, hybrid=True, max_anomalies=2)"
   ]
  },
  {
   "cell_type": "code",
   "execution_count": 3,
   "id": "28c66deb",
   "metadata": {},
   "outputs": [
    {
     "name": "stdout",
     "output_type": "stream",
     "text": [
      "Anomaly index: 83, anomaly value: 10.0\n",
      "Anomaly index: 14, anomaly value: 9.0\n"
     ]
    }
   ],
   "source": [
    "for idx in outliers_indices:\n",
    "    print(f'Anomaly index: {idx}, anomaly value: {ts[idx]}')"
   ]
  }
 ],
 "metadata": {
  "kernelspec": {
   "display_name": "Python 3 (ipykernel)",
   "language": "python",
   "name": "python3"
  },
  "language_info": {
   "codemirror_mode": {
    "name": "ipython",
    "version": 3
   },
   "file_extension": ".py",
   "mimetype": "text/x-python",
   "name": "python",
   "nbconvert_exporter": "python",
   "pygments_lexer": "ipython3",
   "version": "3.10.2"
  }
 },
 "nbformat": 4,
 "nbformat_minor": 5
}
